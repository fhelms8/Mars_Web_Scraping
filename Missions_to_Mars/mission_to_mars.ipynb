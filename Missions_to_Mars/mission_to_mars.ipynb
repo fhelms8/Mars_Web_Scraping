{
 "cells": [
  {
   "cell_type": "code",
   "execution_count": 1,
   "metadata": {},
   "outputs": [],
   "source": [
    "# Dependencies\n",
    "from bs4 import BeautifulSoup\n",
    "from splinter import Browser\n",
    "from webdriver_manager.chrome import ChromeDriverManager\n",
    "import requests\n",
    "import pymongo\n",
    "import os\n",
    "import time "
   ]
  },
  {
   "cell_type": "code",
   "execution_count": 2,
   "metadata": {},
   "outputs": [
    {
     "name": "stderr",
     "output_type": "stream",
     "text": [
      "\n",
      "\n",
      "====== WebDriver manager ======\n",
      "Current google-chrome version is 93.0.4577\n",
      "Get LATEST driver version for 93.0.4577\n",
      "Driver [C:\\Users\\fhelm\\.wdm\\drivers\\chromedriver\\win32\\93.0.4577.63\\chromedriver.exe] found in cache\n"
     ]
    }
   ],
   "source": [
    "# Setup splinter\n",
    "executable_path = {'executable_path': ChromeDriverManager().install()}\n",
    "browser = Browser('chrome', **executable_path, headless=False)"
   ]
  },
  {
   "cell_type": "markdown",
   "metadata": {},
   "source": [
    "Nasa Mars News"
   ]
  },
  {
   "cell_type": "code",
   "execution_count": 3,
   "metadata": {},
   "outputs": [],
   "source": [
    "# Initialize PyMongo to work with MongoDBs\n",
    "conn = 'mongodb://localhost:27017'\n",
    "client = pymongo.MongoClient(conn)"
   ]
  },
  {
   "cell_type": "code",
   "execution_count": 4,
   "metadata": {},
   "outputs": [],
   "source": [
    "# Define database and collection\n",
    "db = client.commerce_db\n",
    "collection = db.items"
   ]
  },
  {
   "cell_type": "code",
   "execution_count": 5,
   "metadata": {},
   "outputs": [],
   "source": [
    "# URL of page to be scraped\n",
    "url = 'https://redplanetscience.com/'\n",
    "browser.visit(url)\n",
    "time.sleep(2)\n",
    "\n",
    "\n",
    "\n",
    "# Create BeautifulSoup object; parse with 'lxml'\n",
    "soup = BeautifulSoup(browser.html, 'lxml')"
   ]
  },
  {
   "cell_type": "code",
   "execution_count": 6,
   "metadata": {},
   "outputs": [],
   "source": [
    "#Find the columns that contain the title and paragraph texts\n",
    "results = soup.find_all('div', class_='list_text')\n",
    "# print(results)"
   ]
  },
  {
   "cell_type": "code",
   "execution_count": 7,
   "metadata": {},
   "outputs": [
    {
     "name": "stdout",
     "output_type": "stream",
     "text": [
      "\n",
      "-----------------\n",
      "\n",
      "NASA's Mars Rover Drivers Need Your Help\n",
      "Body:\n",
      "Using an online tool to label Martian terrain types, you can train an artificial intelligence algorithm that could improve the way engineers guide the Curiosity rover.\n",
      "\n",
      "-----------------\n",
      "\n",
      "The Detective Aboard NASA's Perseverance Rover\n",
      "Body:\n",
      "An instrument called SHERLOC will, with the help of its partner WATSON, hunt for signs of ancient life by detecting organic molecules and minerals.\n",
      "\n",
      "-----------------\n",
      "\n",
      "NASA's Perseverance Rover 100 Days Out\n",
      "Body:\n",
      "Mark your calendars: The agency's latest rover has only about 8,640,000 seconds to go before it touches down on the Red Planet, becoming history's next Mars car.\n",
      "\n",
      "-----------------\n",
      "\n",
      "NASA Readies Perseverance Mars Rover's Earthly Twin \n",
      "Body:\n",
      "Did you know NASA's next Mars rover has a nearly identical sibling on Earth for testing? Even better, it's about to roll for the first time through a replica Martian landscape.\n",
      "\n",
      "-----------------\n",
      "\n",
      "My Culture, My Voice\n",
      "Body:\n",
      "In honor of Hispanic Heritage Month, Christina Hernandez, an instrument engineer on the Mars 2020 mission, talks about her childhood and journey to NASA.\n",
      "\n",
      "-----------------\n",
      "\n",
      "NASA's Perseverance Rover Will Peer Beneath Mars' Surface \n",
      "Body:\n",
      "The agency's newest rover will use the first ground-penetrating radar instrument on the Martian surface to help search for signs of past microbial life. \n",
      "\n",
      "-----------------\n",
      "\n",
      "NASA's Mars 2020 Comes Full Circle\n",
      "Body:\n",
      "Aiming to pinpoint the Martian vehicle's center of gravity, engineers took NASA's 2,300-pound Mars 2020 rover for a spin in the clean room at JPL. \n",
      "\n",
      "-----------------\n",
      "\n",
      "The Launch Is Approaching for NASA's Next Mars Rover, Perseverance\n",
      "Body:\n",
      "The Red Planet's surface has been visited by eight NASA spacecraft. The ninth will be the first that includes a roundtrip ticket in its flight plan. \n",
      "\n",
      "-----------------\n",
      "\n",
      "NASA-JPL Names 'Rolling Stones Rock' on Mars\n",
      "Body:\n",
      "NASA's Mars InSight mission honored one of the biggest bands of all time at Pasadena concert.\n",
      "\n",
      "-----------------\n",
      "\n",
      "NASA Wins Two Emmy Awards for Interactive Mission Coverage\n",
      "Body:\n",
      "NASA-JPL's coverage of the Mars InSight landing earns one of the two wins, making this the NASA center's second Emmy.\n",
      "\n",
      "-----------------\n",
      "\n",
      "NASA InSight's 'Mole' Is Out of Sight\n",
      "Body:\n",
      "Now that the heat probe is just below the Martian surface, InSight's arm will scoop some additional soil on top to help it keep digging so it can take Mars' temperature.\n",
      "\n",
      "-----------------\n",
      "\n",
      "Robotic Toolkit Added to NASA's Mars 2020 Rover\n",
      "Body:\n",
      "The bit carousel, which lies at the heart of the rover's Sample Caching System, is now aboard NASA's newest rover. \n",
      "\n",
      "-----------------\n",
      "\n",
      "Air Deliveries Bring NASA's Perseverance Mars Rover Closer to Launch\n",
      "Body:\n",
      "A NASA Wallops Flight Facility cargo plane transported more than two tons of equipment — including the rover's sample collection tubes — to Florida for this summer's liftoff.\n",
      "\n",
      "-----------------\n",
      "\n",
      "NASA's InSight Flexes Its Arm While Its 'Mole' Hits Pause\n",
      "Body:\n",
      "Now that the lander's robotic arm has helped the mole get underground, it will resume science activities that have been on hold.\n",
      "\n",
      "-----------------\n",
      "\n",
      "With Mars Methane Mystery Unsolved, Curiosity Serves Scientists a New One: Oxygen\n",
      "Body:\n",
      "For the first time in the history of space exploration, scientists have measured the seasonal changes in the gases that fill the air directly above the surface of Gale Crater on Mars. \n"
     ]
    }
   ],
   "source": [
    "# Loop through returned results\n",
    "for result in results:\n",
    "    \n",
    "    # Retrieve the thread title\n",
    "    title = result.find('div', class_='content_title')\n",
    "    \n",
    "    \n",
    "    # Access the thread's text content\n",
    "    title_text = title.text\n",
    "   \n",
    "\n",
    "    try:\n",
    "        # Access the thread with CSS selectors\n",
    "        thread = result.find('div', class_='article_teaser_body') \n",
    "        \n",
    "\n",
    "        # The number of comments made in the thread\n",
    "        teaser_body = thread.text.lstrip()\n",
    "        \n",
    "        # Run teaser_body & title \n",
    "        if (teaser_body):\n",
    "            print('\\n-----------------\\n')\n",
    "            print(title_text)\n",
    "            print('Body:')\n",
    "            print(teaser_body)\n",
    "    except AttributeError as e:\n",
    "        print(e)"
   ]
  },
  {
   "cell_type": "markdown",
   "metadata": {},
   "source": [
    "###JPL Mars Space Images - Featured Image###"
   ]
  },
  {
   "cell_type": "code",
   "execution_count": 8,
   "metadata": {},
   "outputs": [],
   "source": [
    "# website: https://spaceimages-mars.com/\n",
    "# Use splinter to navigate the site and find the image url for the current Featured \n",
    "# Mars Image and assign the url string to a variable called featured_image_url\n",
    "\n",
    "url = \"https://spaceimages-mars.com/\"\n",
    "browser.visit(url)\n",
    "time.sleep(2)"
   ]
  },
  {
   "cell_type": "code",
   "execution_count": 9,
   "metadata": {},
   "outputs": [],
   "source": [
    "soup = BeautifulSoup(browser.html, 'lxml')\n",
    "\n",
    "html = browser.html\n",
    "img_soup = soup(html, 'html.parser')"
   ]
  },
  {
   "cell_type": "code",
   "execution_count": 10,
   "metadata": {},
   "outputs": [],
   "source": [
    "header = soup.find_all('div', class_='header')"
   ]
  },
  {
   "cell_type": "code",
   "execution_count": 13,
   "metadata": {},
   "outputs": [
    {
     "data": {
      "text/plain": [
       "'image/featured/mars2.jpg'"
      ]
     },
     "execution_count": 13,
     "metadata": {},
     "output_type": "execute_result"
    }
   ],
   "source": [
    "#Find the row that contain the picture url\n",
    "header_image = soup.find('img', class_='headerimage fade-in').get('src')\n",
    "header_image"
   ]
  },
  {
   "cell_type": "code",
   "execution_count": 14,
   "metadata": {},
   "outputs": [
    {
     "name": "stdout",
     "output_type": "stream",
     "text": [
      "https://spaceimages-mars.com/image/featured/mars2.jpg\n"
     ]
    }
   ],
   "source": [
    "featured_image_url = url + header_image\n",
    "print(featured_image_url)"
   ]
  },
  {
   "cell_type": "code",
   "execution_count": null,
   "metadata": {},
   "outputs": [],
   "source": []
  },
  {
   "cell_type": "code",
   "execution_count": null,
   "metadata": {},
   "outputs": [],
   "source": []
  }
 ],
 "metadata": {
  "kernelspec": {
   "display_name": "Python [conda env:PythonData] *",
   "language": "python",
   "name": "conda-env-PythonData-py"
  },
  "language_info": {
   "codemirror_mode": {
    "name": "ipython",
    "version": 3
   },
   "file_extension": ".py",
   "mimetype": "text/x-python",
   "name": "python",
   "nbconvert_exporter": "python",
   "pygments_lexer": "ipython3",
   "version": "3.6.10"
  }
 },
 "nbformat": 4,
 "nbformat_minor": 4
}
